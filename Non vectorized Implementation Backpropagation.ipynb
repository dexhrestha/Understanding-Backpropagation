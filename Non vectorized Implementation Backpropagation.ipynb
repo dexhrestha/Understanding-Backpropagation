{
 "cells": [
  {
   "cell_type": "code",
   "execution_count": 1,
   "metadata": {},
   "outputs": [],
   "source": [
    "import numpy as np\n",
    "import pandas as pd"
   ]
  },
  {
   "cell_type": "code",
   "execution_count": 2,
   "metadata": {},
   "outputs": [],
   "source": [
    "admit = pd.read_csv('Entrance_Selection.csv')"
   ]
  },
  {
   "cell_type": "code",
   "execution_count": 3,
   "metadata": {},
   "outputs": [],
   "source": [
    "data = pd.concat([admit,pd.get_dummies(admit['rank'],prefix='rank')],axis=1)\n",
    "data = data.drop('rank',axis=1)"
   ]
  },
  {
   "cell_type": "code",
   "execution_count": 4,
   "metadata": {},
   "outputs": [],
   "source": [
    "for field in ['gre','gpa']:\n",
    "    mean, std = data[field].mean(), data[field].std()\n",
    "    data.loc[:,field] = (data[field]-mean)/std"
   ]
  },
  {
   "cell_type": "code",
   "execution_count": 5,
   "metadata": {},
   "outputs": [
    {
     "name": "stderr",
     "output_type": "stream",
     "text": [
      "C:\\Users\\dexhrestha\\Anaconda3\\lib\\site-packages\\ipykernel_launcher.py:3: FutureWarning: \n",
      ".ix is deprecated. Please use\n",
      ".loc for label based indexing or\n",
      ".iloc for positional indexing\n",
      "\n",
      "See the documentation here:\n",
      "http://pandas.pydata.org/pandas-docs/stable/user_guide/indexing.html#ix-indexer-is-deprecated\n",
      "  This is separate from the ipykernel package so we can avoid doing imports until\n"
     ]
    }
   ],
   "source": [
    "np.random.seed(42)\n",
    "sample = np.random.choice(data.index,size=int(len(data)*0.9),replace=False)\n",
    "data,test_data = data.ix[sample], data.drop(sample)"
   ]
  },
  {
   "cell_type": "code",
   "execution_count": 6,
   "metadata": {},
   "outputs": [],
   "source": [
    "features, targets = data.drop('admit',axis=1), data['admit']\n",
    "features_test, targets_test = test_data.drop('admit',axis=1), test_data['admit']"
   ]
  },
  {
   "cell_type": "code",
   "execution_count": 7,
   "metadata": {},
   "outputs": [],
   "source": [
    "import random"
   ]
  },
  {
   "cell_type": "code",
   "execution_count": 8,
   "metadata": {},
   "outputs": [],
   "source": [
    "X = features.values\n",
    "y = targets.values"
   ]
  },
  {
   "cell_type": "code",
   "execution_count": 9,
   "metadata": {},
   "outputs": [],
   "source": [
    "def sigmoid(x):\n",
    "    return 1/(1+np.exp(-x))"
   ]
  },
  {
   "cell_type": "code",
   "execution_count": 10,
   "metadata": {},
   "outputs": [],
   "source": [
    "n_hidden = 3 \n",
    "epochs = 5000\n",
    "learning_rate = 0.5\n",
    "\n",
    "n_records, n_features = features.shape\n",
    "\n",
    "last_loss = None"
   ]
  },
  {
   "cell_type": "code",
   "execution_count": 11,
   "metadata": {},
   "outputs": [],
   "source": [
    "weights_input_hidden = np.random.normal(scale=1 / n_features ** -.5,\n",
    "                                        size=(n_features, n_hidden))\n",
    "weights_hidden_output = np.random.normal(scale=1 / n_features ** -.5,\n",
    "                                         size=n_hidden)"
   ]
  },
  {
   "cell_type": "code",
   "execution_count": 12,
   "metadata": {},
   "outputs": [
    {
     "name": "stdout",
     "output_type": "stream",
     "text": [
      "Train loss:  0.2253412095295958\n",
      "Train loss:  0.22784900287405507   WARNING - Loss Increasing\n",
      "Train loss:  0.23917101502914304   WARNING - Loss Increasing\n",
      "Train loss:  0.24274861261289754   WARNING - Loss Increasing\n",
      "Train loss:  0.24384751485331368   WARNING - Loss Increasing\n",
      "Train loss:  0.24408625741605433   WARNING - Loss Increasing\n",
      "Train loss:  0.24401567521176964\n",
      "Train loss:  0.24382794052877407\n",
      "Train loss:  0.2435950738118375\n",
      "Train loss:  0.2433470324904509\n"
     ]
    }
   ],
   "source": [
    "for e in range(epochs):\n",
    "\n",
    "    del_w_input_hidden = np.zeros(weights_input_hidden.shape)\n",
    "    del_w_hidden_output = np.zeros(weights_hidden_output.shape)\n",
    "    \n",
    "    for x, y in zip(features.values, targets):\n",
    "        # forward pass\n",
    "        # calculate the output\n",
    "        hidden_input = np.dot(x, weights_input_hidden)\n",
    "        hidden_activations = sigmoid(hidden_input)\n",
    "        output_layer_input = np.dot(weights_hidden_output, hidden_activations)\n",
    "        output = sigmoid(output_layer_input)      \n",
    "        \n",
    "        # backward pass\n",
    "        # calculate the error\n",
    "        error = y - output\n",
    "        \n",
    "        # calculate error gradient in output unit\n",
    "        output_error = error * output * (1 - output)\n",
    "                \n",
    "        # propagate errors to hidden layer\n",
    "        hidden_error = np.dot(output_error, weights_hidden_output) * hidden_activations * (\n",
    "            1 - hidden_activations)\n",
    "            \n",
    "        \n",
    "        # update the change in weights\n",
    "        del_w_hidden_output += output_error * hidden_activations\n",
    "        del_w_input_hidden += hidden_error * x[:, None]\n",
    "  \n",
    "    # update weights\n",
    "    weights_hidden_output += learning_rate * del_w_hidden_output / n_records\n",
    "    weights_input_hidden += learning_rate * del_w_input_hidden / n_records\n",
    "\n",
    "    # printing out the mean square error on the training set\n",
    "    if e % (epochs / 10) == 0:\n",
    "        hidden_activations = sigmoid(np.dot(x, weights_input_hidden))\n",
    "        out = sigmoid(np.dot(hidden_activations,\n",
    "                             weights_hidden_output))\n",
    "        loss = np.mean((out - targets) ** 2)\n",
    "\n",
    "        if last_loss and last_loss < loss:\n",
    "            print(\"Train loss: \", loss, \"  WARNING - Loss Increasing\")\n",
    "        else:\n",
    "            print(\"Train loss: \", loss)\n",
    "        last_loss = loss  "
   ]
  },
  {
   "cell_type": "code",
   "execution_count": 13,
   "metadata": {},
   "outputs": [
    {
     "name": "stdout",
     "output_type": "stream",
     "text": [
      "Prediction accuracy: 0.725\n"
     ]
    }
   ],
   "source": [
    "hidden = sigmoid(np.dot(features_test, weights_input_hidden))\n",
    "out = sigmoid(np.dot(hidden, weights_hidden_output))\n",
    "predictions = out > 0.5\n",
    "accuracy = np.mean(predictions == targets_test)\n",
    "print(\"Prediction accuracy: {:.3f}\".format(accuracy))   "
   ]
  },
  {
   "cell_type": "code",
   "execution_count": null,
   "metadata": {},
   "outputs": [],
   "source": []
  }
 ],
 "metadata": {
  "kernelspec": {
   "display_name": "Python 3",
   "language": "python",
   "name": "python3"
  },
  "language_info": {
   "codemirror_mode": {
    "name": "ipython",
    "version": 3
   },
   "file_extension": ".py",
   "mimetype": "text/x-python",
   "name": "python",
   "nbconvert_exporter": "python",
   "pygments_lexer": "ipython3",
   "version": "3.6.4"
  }
 },
 "nbformat": 4,
 "nbformat_minor": 2
}
